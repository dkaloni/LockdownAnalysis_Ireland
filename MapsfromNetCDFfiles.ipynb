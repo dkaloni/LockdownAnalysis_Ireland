{
 "cells": [
  {
   "cell_type": "code",
   "execution_count": 10,
   "metadata": {
    "colab": {},
    "colab_type": "code",
    "id": "oFEvLDq1g3m_"
   },
   "outputs": [],
   "source": [
    "import ipywidgets\n",
    "from matplotlib import pyplot as plt\n",
    "from termcolor import colored\n",
    "import cartopy.crs as ccrs\n",
    "import matplotlib.colors as colors\n",
    "import xarray as xr\n",
    "import numpy as np\n",
    "import cartopy\n",
    "import matplotlib.gridspec as gridspec\n",
    "from glob import iglob\n",
    "from os.path import join\n",
    "from functools import reduce\n",
    "import pandas as pd\n",
    "#import harp\n",
    "import itertools\n",
    "import cartopy.feature as cfeature\n",
    "from cartopy.mpl.gridliner import LONGITUDE_FORMATTER, LATITUDE_FORMATTER\n",
    "import matplotlib.patches as mpatches\n",
    "import imageio\n",
    "from netCDF4 import Dataset\n",
    "import cartopy.crs as ccrs\n",
    "import cartopy.io.shapereader as shpreader\n",
    "import cartopy.io.img_tiles as cimgt\n",
    "import matplotlib.pyplot as plt\n",
    "import cartopy.mpl.geoaxes\n",
    "import cartopy.feature as cf\n",
    "\n",
    "import matplotlib.pyplot as plt\n",
    "from mpl_toolkits.axes_grid1.inset_locator import inset_axes\n",
    "%matplotlib inline\n",
    "import numpy as np\n",
    "import ipywidgets\n",
    "import cartopy.crs as ccrs\n",
    "from ipywidgets import Layout"
   ]
  },
  {
   "cell_type": "code",
   "execution_count": 11,
   "metadata": {
    "colab": {},
    "colab_type": "code",
    "id": "VxB0ysZig3nH"
   },
   "outputs": [
    {
     "name": "stdout",
     "output_type": "stream",
     "text": [
      "\u001b[31mNO2 2019 files:\u001b[0m 0\n",
      "\u001b[31mNO2 2020 files:\u001b[0m 74\n",
      "\u001b[34mProduct selected for analyis:\u001b[0m /home/dk/ADI/linuxdataset/INDIA2020/S5P_OFFL_L2__NO2____20200301T053638_20200301T071808_12341_01_010302_20200304T104828.SUB.nc\n",
      "\u001b[34mProduct selected for analyis:\u001b[0m /home/dk/ADI/linuxdataset/INDIA2020/S5P_OFFL_L2__NO2____20200301T071808_20200301T085939_12342_01_010302_20200304T121216.SUB.nc\n"
     ]
    }
   ],
   "source": [
    "product_path = \"/home/dk/ADI/linuxdataset/INDIA2020\"\n",
    "\n",
    "\n",
    "#2019 data stored in a list\n",
    "files2019 =sorted(list(iglob(join(product_path, \"*2019*.nc\"), recursive =True)))\n",
    "print(colored(\"NO2 2019 files:\",\"red\"), len(files2019))\n",
    "\n",
    "#2020 data stored in a different list\n",
    "files2020 = sorted(list(iglob(join(product_path, \"*2020*.nc\"), recursive =True)))\n",
    "print(colored(\"NO2 2020 files:\",\"red\"), len(files2020))\n",
    "\n",
    "\n",
    "#sample file for testing on a 1stMARCH2019 data\n",
    "file1 = files2020[0]\n",
    "file2 = files2020[1]\n",
    "print(colored(\"Product selected for analyis:\",\"blue\"), file1)\n",
    "print(colored(\"Product selected for analyis:\",\"blue\"), file2)"
   ]
  },
  {
   "cell_type": "code",
   "execution_count": 12,
   "metadata": {
    "colab": {},
    "colab_type": "code",
    "id": "Mrh2aozkg3nN"
   },
   "outputs": [
    {
     "name": "stdout",
     "output_type": "stream",
     "text": [
      "\u001b[34mGlobal attributes:\n",
      "\u001b[0m <xarray.Dataset>\n",
      "Dimensions:  ()\n",
      "Data variables:\n",
      "    *empty*\n",
      "Attributes:\n",
      "    Conventions:                        CF-1.7\n",
      "    institution:                        KNMI\n",
      "    source:                             Sentinel 5 precursor, TROPOMI, space-...\n",
      "    summary:                            TROPOMI/S5P NO2 1-Orbit L2 Swath 7x3.5km\n",
      "    tracking_id:                        ee1234ed-0776-44df-99fe-7acb9cc44b26\n",
      "    id:                                 S5P_OFFL_L2__NO2____20200301T053638_2...\n",
      "    time_reference:                     2020-03-01T00:00:00Z\n",
      "    time_reference_days_since_1950:     25627\n",
      "    time_reference_julian_day:          2458909.5\n",
      "    time_reference_seconds_since_1970:  1583020800\n",
      "    time_coverage_start:                2020-03-01T05:58:12Z\n",
      "    time_coverage_end:                  2020-03-01T06:56:36Z\n",
      "    time_coverage_duration:             PT3503.560S\n",
      "    time_coverage_resolution:           PT0.840S\n",
      "    orbit:                              12341\n",
      "    references:                         http://www.tropomi.eu/data-products/n...\n",
      "    processor_version:                  1.3.2\n",
      "    keywords_vocabulary:                AGU index terms, http://publications....\n",
      "    keywords:                           0345 Pollution, Urban and Regional; 0...\n",
      "    standard_name_vocabulary:           NetCDF Climate and Forecast Metadata ...\n",
      "    naming_authority:                   nl.knmi\n",
      "    cdm_data_type:                      Swath\n",
      "    date_created:                       2020-03-04T10:48:47Z\n",
      "    creator_name:                       The Sentinel 5 Precursor TROPOMI Leve...\n",
      "    creator_url:                        http://www.tropomi.eu\n",
      "    creator_email:                      EOSupport@Copernicus.esa.int\n",
      "    project:                            Sentinel 5 precursor/TROPOMI\n",
      "    geospatial_lat_min:                 -89.96692\n",
      "    geospatial_lat_max:                 89.96929\n",
      "    geospatial_lon_min:                 179.99965\n",
      "    geospatial_lon_max:                 -179.99954\n",
      "    license:                            No conditions apply\n",
      "    platform:                           S5P\n",
      "    sensor:                             TROPOMI\n",
      "    spatial_resolution:                 7x3.5km2\n",
      "    cpp_compiler_version:               g++ (GCC) 4.8.5 20150623 (Red Hat 4.8...\n",
      "    cpp_compiler_flags:                 -g -O2 -fPIC -std=c++11 -W -Wall -Wno...\n",
      "    f90_compiler_version:               GNU Fortran (GCC) 4.8.5 20150623 (Red...\n",
      "    f90_compiler_flags:                 -gdwarf-3 -O2 -fPIC -cpp -ffpe-trap=i...\n",
      "    build_date:                         2019-04-05T12:04:00Z\n",
      "    revision_control_identifier:        \n",
      "    geolocation_grid_from_band:         4\n",
      "    identifier_product_doi:             10.5270/S5P-s4ljg54\n",
      "    identifier_product_doi_authority:   http://dx.doi.org/\n",
      "    algorithm_version:                  1.3.0\n",
      "    title:                              TROPOMI/S5P NO2 1-Orbit L2 Swath 7x3.5km\n",
      "    product_version:                    1.1.0\n",
      "    Status_MET_2D:                      Nominal\n",
      "    Status_NISE__:                      Nominal\n",
      "    Status_CTMFCT:                      Nominal\n",
      "    processing_status:                  OFFL-processing nominal product\n",
      "    date_modified:                      2020-03-10T12:58:27Z\n",
      "    history:                            2020-03-04 11:00:01 f_s5pops tropnll2...\n",
      "\u001b[34m\n",
      "METADATA:\n",
      "\u001b[0m <xarray.Dataset>\n",
      "Dimensions:  ()\n",
      "Data variables:\n",
      "    *empty*\n",
      "\u001b[34m\n",
      "PRODUCT GROUP:\n",
      "\u001b[0m <xarray.Dataset>\n",
      "Dimensions:                                               (corner: 4, ground_pixel: 293, intensity_offset_polynomial_exponents: 1, layer: 34, polynomial_exponents: 6, scanline: 727, time: 1, vertices: 2)\n",
      "Coordinates:\n",
      "    longitude                                             (time, scanline, ground_pixel) float32 ...\n",
      "    latitude                                              (time, scanline, ground_pixel) float32 ...\n",
      "  * time                                                  (time) datetime64[ns] 2020-03-01\n",
      "  * scanline                                              (scanline) float64 2.328e+03 ... 3.054e+03\n",
      "  * ground_pixel                                          (ground_pixel) float64 0.0 ... 292.0\n",
      "  * corner                                                (corner) float64 0.0 ... 3.0\n",
      "  * polynomial_exponents                                  (polynomial_exponents) float64 0.0 ... 5.0\n",
      "  * intensity_offset_polynomial_exponents                 (intensity_offset_polynomial_exponents) float64 0.0\n",
      "  * layer                                                 (layer) float64 0.0 ... 33.0\n",
      "  * vertices                                              (vertices) float64 0.0 1.0\n",
      "Data variables:\n",
      "    time_idx                                              (time) float32 ...\n",
      "    scanline_idx                                          (scanline) float32 ...\n",
      "    ground_pixel_idx                                      (ground_pixel) float32 ...\n",
      "    time_utc                                              (time, scanline) object ...\n",
      "    delta_time                                            (time, scanline) datetime64[ns] ...\n",
      "    qa_value                                              (time, scanline, ground_pixel) float32 ...\n",
      "    nitrogendioxide_tropospheric_column                   (time, scanline, ground_pixel) float32 ...\n",
      "    nitrogendioxide_tropospheric_column_precision         (time, scanline, ground_pixel) float32 ...\n",
      "    nitrogendioxide_tropospheric_column_precision_kernel  (time, scanline, ground_pixel) float32 ...\n",
      "    averaging_kernel                                      (time, scanline, ground_pixel, layer) float32 ...\n",
      "    air_mass_factor_troposphere                           (time, scanline, ground_pixel) float32 ...\n",
      "    air_mass_factor_total                                 (time, scanline, ground_pixel) float32 ...\n",
      "    tm5_tropopause_layer_index                            (time, scanline, ground_pixel) float64 ...\n",
      "    tm5_constant_a                                        (layer, vertices) float32 ...\n",
      "    tm5_constant_b                                        (layer, vertices) float32 ...\n"
     ]
    }
   ],
   "source": [
    "#opening product ----Global Attributes\n",
    "with xr.open_dataset(file1) as file1GA:\n",
    "    print(colored(\"Global attributes:\\n\", \"blue\"), file1GA)\n",
    "\n",
    "\n",
    "#opeining product METADATA\n",
    "with xr.open_dataset(file1, group = \"METADATA\") as file1MT:\n",
    "    print(colored(\"\\nMETADATA:\\n\", \"blue\"), file1MT)\n",
    "    \n",
    "with xr.open_dataset(file1, group =\"PRODUCT\") as file1PRD:\n",
    "    print(colored(\"\\nPRODUCT GROUP:\\n\", \"blue\"), file1PRD)"
   ]
  },
  {
   "cell_type": "code",
   "execution_count": 13,
   "metadata": {
    "colab": {},
    "colab_type": "code",
    "id": "Np4XIXLdg3nS"
   },
   "outputs": [
    {
     "name": "stdout",
     "output_type": "stream",
     "text": [
      "\u001b[34m\n",
      "Attributes:\u001b[0m {'units': 'mol m-2', 'standard_name': 'troposphere_mole_content_of_nitrogen_dioxide', 'long_name': 'Tropospheric vertical column of nitrogen dioxide', 'ancillary_variables': 'nitrogendioxide_tropospheric_column_precision air_mass_factor_troposphere air_mass_factor_total averaging_kernel', 'multiplication_factor_to_convert_to_molecules_percm2': 6.02214e+19}\n",
      "\u001b[34m\n",
      "Values:\u001b[0m [[[           nan            nan            nan ...            nan\n",
      "              nan            nan]\n",
      "  [           nan            nan            nan ...            nan\n",
      "              nan            nan]\n",
      "  [           nan            nan            nan ...            nan\n",
      "              nan            nan]\n",
      "  ...\n",
      "  [           nan -2.0235169e-05  5.5254413e-06 ...            nan\n",
      "              nan            nan]\n",
      "  [           nan -2.9411308e-06            nan ...            nan\n",
      "              nan            nan]\n",
      "  [           nan            nan            nan ...            nan\n",
      "              nan            nan]]]\n",
      "\u001b[34mDimension of axis:\u001b[0m ('time', 'scanline', 'ground_pixel')\n",
      "\u001b[34m\n",
      "Coordinates\u001b[0m Coordinates:\n",
      "    longitude     (time, scanline, ground_pixel) float32 ...\n",
      "    latitude      (time, scanline, ground_pixel) float32 ...\n",
      "  * time          (time) datetime64[ns] 2020-03-01\n",
      "  * scanline      (scanline) float64 2.328e+03 2.329e+03 ... 3.053e+03 3.054e+03\n",
      "  * ground_pixel  (ground_pixel) float64 0.0 1.0 2.0 3.0 ... 290.0 291.0 292.0\n"
     ]
    }
   ],
   "source": [
    "#DATA VARIABLES ACCESS\n",
    "no2 = file1PRD['nitrogendioxide_tropospheric_column']\n",
    "print(colored(\"\\nAttributes:\", \"blue\"), no2.attrs)\n",
    "print(colored(\"\\nValues:\", \"blue\"), no2.values)\n",
    "print(colored('Dimension of axis:', \"blue\"), no2.dims)\n",
    "print(colored(\"\\nCoordinates\", \"blue\"), no2.coords)\n"
   ]
  },
  {
   "cell_type": "code",
   "execution_count": 14,
   "metadata": {
    "colab": {},
    "colab_type": "code",
    "id": "6tLGqbEQg3nX"
   },
   "outputs": [
    {
     "name": "stdout",
     "output_type": "stream",
     "text": [
      "<xarray.DataArray 'nitrogendioxide_tropospheric_column' (scanline: 727, ground_pixel: 293)>\n",
      "array([[          nan,           nan,           nan, ...,           nan,\n",
      "                  nan,           nan],\n",
      "       [          nan,           nan,           nan, ...,           nan,\n",
      "                  nan,           nan],\n",
      "       [          nan,           nan,           nan, ...,           nan,\n",
      "                  nan,           nan],\n",
      "       ...,\n",
      "       [          nan, -2.023517e-05,  5.525441e-06, ...,           nan,\n",
      "                  nan,           nan],\n",
      "       [          nan, -2.941131e-06,           nan, ...,           nan,\n",
      "                  nan,           nan],\n",
      "       [          nan,           nan,           nan, ...,           nan,\n",
      "                  nan,           nan]], dtype=float32)\n",
      "Coordinates:\n",
      "    longitude     (scanline, ground_pixel) float32 ...\n",
      "    latitude      (scanline, ground_pixel) float32 ...\n",
      "    time          datetime64[ns] 2020-03-01\n",
      "  * scanline      (scanline) float64 2.328e+03 2.329e+03 ... 3.053e+03 3.054e+03\n",
      "  * ground_pixel  (ground_pixel) float64 0.0 1.0 2.0 3.0 ... 290.0 291.0 292.0\n",
      "Attributes:\n",
      "    units:                                                 mol m-2\n",
      "    standard_name:                                         troposphere_mole_c...\n",
      "    long_name:                                             Tropospheric verti...\n",
      "    ancillary_variables:                                   nitrogendioxide_tr...\n",
      "    multiplication_factor_to_convert_to_molecules_percm2:  6.02214e+19\n"
     ]
    }
   ],
   "source": [
    "print(no2[0])"
   ]
  },
  {
   "cell_type": "code",
   "execution_count": 15,
   "metadata": {
    "colab": {},
    "colab_type": "code",
    "id": "_cK9yAsxg3nc"
   },
   "outputs": [],
   "source": [
    "### Converting values to standard units\n",
    "### Filtering out data\n",
    "no2 = no2*(6.02214e+19)\n",
    "no2_filter = no2.where(file1PRD['qa_value'] > 0.75, drop = True)"
   ]
  },
  {
   "cell_type": "markdown",
   "metadata": {},
   "source": [
    "### Average Data Collection"
   ]
  },
  {
   "cell_type": "code",
   "execution_count": 16,
   "metadata": {},
   "outputs": [
    {
     "name": "stdout",
     "output_type": "stream",
     "text": [
      "[[[ 0.0000000e+00  0.0000000e+00  0.0000000e+00 ...  0.0000000e+00\n",
      "    0.0000000e+00  0.0000000e+00]\n",
      "  [ 0.0000000e+00  0.0000000e+00  0.0000000e+00 ...  0.0000000e+00\n",
      "    0.0000000e+00  0.0000000e+00]\n",
      "  [ 0.0000000e+00  0.0000000e+00  0.0000000e+00 ...  0.0000000e+00\n",
      "    0.0000000e+00  0.0000000e+00]\n",
      "  ...\n",
      "  [ 0.0000000e+00 -1.2185903e+15  3.3274981e+14 ...  0.0000000e+00\n",
      "    0.0000000e+00  0.0000000e+00]\n",
      "  [ 0.0000000e+00 -1.7711902e+14  0.0000000e+00 ...  0.0000000e+00\n",
      "    0.0000000e+00  0.0000000e+00]\n",
      "  [ 0.0000000e+00  0.0000000e+00  0.0000000e+00 ...  0.0000000e+00\n",
      "    0.0000000e+00  0.0000000e+00]]]\n",
      "<xarray.DataArray 'nitrogendioxide_tropospheric_column' (time: 1, scanline: 727, ground_pixel: 293)>\n",
      "array([[[           nan,            nan,            nan, ...,\n",
      "                    nan,            nan,            nan],\n",
      "        [           nan,            nan,            nan, ...,\n",
      "                    nan,            nan,            nan],\n",
      "        [           nan,            nan,            nan, ...,\n",
      "                    nan,            nan,            nan],\n",
      "        ...,\n",
      "        [           nan, -1.2185903e+15,  3.3274981e+14, ...,\n",
      "                    nan,            nan,            nan],\n",
      "        [           nan, -1.7711902e+14,            nan, ...,\n",
      "                    nan,            nan,            nan],\n",
      "        [           nan,            nan,            nan, ...,\n",
      "                    nan,            nan,            nan]]], dtype=float32)\n",
      "Coordinates:\n",
      "    longitude     (time, scanline, ground_pixel) float32 ...\n",
      "    latitude      (time, scanline, ground_pixel) float32 ...\n",
      "  * time          (time) datetime64[ns] 2020-03-01\n",
      "  * scanline      (scanline) float64 2.328e+03 2.329e+03 ... 3.053e+03 3.054e+03\n",
      "  * ground_pixel  (ground_pixel) float64 0.0 1.0 2.0 3.0 ... 290.0 291.0 292.0\n",
      "213011\n",
      "213011\n",
      "<xarray.DataArray 'nitrogendioxide_tropospheric_column' ()>\n",
      "array(8.588919e+19, dtype=float32)\n"
     ]
    }
   ],
   "source": [
    "no2_new = no2\n",
    "out = np.nan_to_num(no2_new)  \n",
    "print(out)\n",
    "print(no2_new)\n",
    "print(no2_new.size)\n",
    "print(np.count_nonzero(no2_new))\n",
    "\n",
    "print(np.sum(no2_new))"
   ]
  },
  {
   "cell_type": "code",
   "execution_count": 17,
   "metadata": {},
   "outputs": [
    {
     "name": "stdout",
     "output_type": "stream",
     "text": [
      "20200301   1.1656820423809555e-05\n",
      "20200301   1.8515348928739954e-05\n",
      "20200302   1.1875893753354868e-05\n",
      "20200302   1.799711165110826e-05\n",
      "20200302   9.355631706411255e-06\n",
      "20200303   1.2808703586702319e-05\n",
      "20200303   1.7064432275324207e-05\n",
      "20200303   1.2209533524530485e-05\n",
      "20200304   6.887551360169344e-06\n",
      "20200304   1.638522234720964e-05\n",
      "20200304   1.301860616775834e-05\n",
      "20200305   2.4840906917233952e-06\n",
      "20200305   1.574500126545051e-05\n",
      "20200305   1.5235290463972787e-05\n",
      "20200306   1.9859882650645018e-05\n",
      "20200306   1.924126480718672e-05\n",
      "20200307   1.7431180422959098e-05\n",
      "20200307   1.6595638473965242e-05\n",
      "20200307   8.85124125211655e-06\n",
      "20200308   1.141339004281919e-05\n",
      "20200308   1.5990675868309216e-05\n",
      "20200308   1.0997081452587484e-05\n",
      "20200309   4.589619125618025e-06\n",
      "20200309   1.4534768974855968e-05\n",
      "20200309   1.429310987581449e-05\n",
      "20200310   3.2036501015054767e-06\n",
      "20200310   1.571040894778038e-05\n",
      "20200310   1.6559440305666397e-05\n",
      "20200311   1.7558202554772868e-05\n",
      "20200311   1.6640534085195123e-05\n",
      "20200312   1.673793016836926e-05\n",
      "20200312   1.7298105967063025e-05\n",
      "20200313   1.9483793310929036e-05\n",
      "20200313   1.614687671511256e-05\n",
      "20200313   1.0485295579494202e-05\n",
      "20200314   1.627538098108107e-05\n",
      "20200314   1.931386476076445e-05\n",
      "20200314   1.5342011403026425e-05\n",
      "20200315   2.8141488206540953e-06\n",
      "20200315   1.4542576805750342e-05\n",
      "20200315   1.7120994790313833e-05\n",
      "20200316   1.674586867750099e-05\n",
      "20200316   1.8550464893905954e-05\n",
      "20200317   1.7685996130421622e-05\n",
      "20200317   2.053999358975234e-05\n",
      "20200318   1.699977976988741e-05\n",
      "20200318   1.9166545377018102e-05\n",
      "20200318   9.09352338457682e-06\n",
      "20200319   1.597617210747584e-05\n",
      "20200319   1.8105234235474225e-05\n",
      "20200319   1.4281022423874326e-05\n",
      "20200320   5.890630367404054e-06\n",
      "20200320   1.8379945157302238e-05\n",
      "20200320   1.9308911054119748e-05\n",
      "20200321   5.479691935761366e-06\n",
      "20200321   1.7859401908035457e-05\n",
      "20200321   1.7075802958054164e-05\n",
      "20200322   2.3355477890538112e-05\n",
      "20200322   1.6970913000548687e-05\n",
      "20200323   1.672561107569336e-05\n",
      "20200323   2.30340052730496e-05\n",
      "20200323   1.0237688943031414e-05\n",
      "20200324   1.9576057390069138e-05\n",
      "20200324   2.025289590508764e-05\n",
      "20200324   1.0839900927166377e-05\n",
      "20200325   8.581683798080717e-06\n",
      "20200325   1.6479916946821e-05\n",
      "20200325   1.8211981527173627e-05\n",
      "20200326   5.789785443440728e-07\n",
      "20200326   1.7428857363937844e-05\n",
      "20200326   2.3209487546041283e-05\n",
      "20200327   1.9127283980885413e-05\n",
      "20200327   1.729807832859819e-05\n",
      "20200328   1.807869680556601e-05\n"
     ]
    }
   ],
   "source": [
    "### Obtaining data from all files\n",
    "import sys\n",
    "for i in files2020:\n",
    "    file1PRD = xr.open_dataset(i, group =\"PRODUCT\")\n",
    "    no2 = file1PRD['nitrogendioxide_tropospheric_column']\n",
    "    no2_new = np.nan_to_num(no2.values)\n",
    "    sumele = np.sum(no2_new)\n",
    "    nonzero = np.count_nonzero(no2_new)\n",
    "    average = sumele/nonzero\n",
    "    name = i[56:64]\n",
    "    print(name,\" \", average)\n",
    "    "
   ]
  },
  {
   "cell_type": "markdown",
   "metadata": {
    "colab_type": "text",
    "id": "Tukul8kbg3nm"
   },
   "source": [
    "### Plots\n"
   ]
  },
  {
   "cell_type": "code",
   "execution_count": 9,
   "metadata": {},
   "outputs": [
    {
     "data": {
      "text/html": [
       "\n",
       "        <iframe\n",
       "            width=\"1000\"\n",
       "            height=\"500\"\n",
       "            src=\"https://www.naturalearthdata.com\"\n",
       "            frameborder=\"0\"\n",
       "            allowfullscreen\n",
       "        ></iframe>\n",
       "        "
      ],
      "text/plain": [
       "<IPython.lib.display.IFrame at 0x7f2f0ab36dd0>"
      ]
     },
     "metadata": {},
     "output_type": "display_data"
    }
   ],
   "source": [
    "from IPython.display import IFrame\n",
    "ne = IFrame(src='https://www.naturalearthdata.com', width=1000, height=500)\n",
    "display(ne)"
   ]
  },
  {
   "cell_type": "code",
   "execution_count": 10,
   "metadata": {},
   "outputs": [
    {
     "name": "stdout",
     "output_type": "stream",
     "text": [
      "\u001b[34m\n",
      "Attributes:\u001b[0m {'units': 'mol m-2', 'standard_name': 'troposphere_mole_content_of_nitrogen_dioxide', 'long_name': 'Tropospheric vertical column of nitrogen dioxide', 'ancillary_variables': 'nitrogendioxide_tropospheric_column_precision air_mass_factor_troposphere air_mass_factor_total averaging_kernel', 'multiplication_factor_to_convert_to_molecules_percm2': 6.02214e+19}\n",
      "\u001b[34m\n",
      "Values:\u001b[0m [[[          nan           nan           nan ... 1.3569348e-05\n",
      "   1.9324296e-05 1.6868675e-05]\n",
      "  [          nan           nan           nan ... 1.2228424e-05\n",
      "   1.9901096e-05 1.6756720e-05]\n",
      "  [          nan           nan           nan ... 1.3518250e-05\n",
      "   1.5382320e-05 1.6913400e-05]\n",
      "  ...\n",
      "  [          nan           nan           nan ...           nan\n",
      "             nan           nan]\n",
      "  [          nan           nan           nan ...           nan\n",
      "             nan           nan]\n",
      "  [          nan           nan           nan ...           nan\n",
      "             nan           nan]]]\n",
      "\u001b[34mDimension of axis:\u001b[0m ('time', 'scanline', 'ground_pixel')\n",
      "\u001b[34m\n",
      "Coordinates\u001b[0m Coordinates:\n",
      "    longitude     (time, scanline, ground_pixel) float32 ...\n",
      "    latitude      (time, scanline, ground_pixel) float32 ...\n",
      "  * time          (time) datetime64[ns] 2020-03-28\n",
      "  * scanline      (scanline) float64 2.041e+03 2.042e+03 ... 2.735e+03 2.736e+03\n",
      "  * ground_pixel  (ground_pixel) float64 0.0 1.0 2.0 3.0 ... 447.0 448.0 449.0\n"
     ]
    }
   ],
   "source": [
    "#DATA VARIABLES ACCESS\n",
    "no2 = file1PRD['nitrogendioxide_tropospheric_column']\n",
    "print(colored(\"\\nAttributes:\", \"blue\"), no2.attrs)\n",
    "print(colored(\"\\nValues:\", \"blue\"), no2.values)\n",
    "print(colored('Dimension of axis:', \"blue\"), no2.dims)\n",
    "print(colored(\"\\nCoordinates\", \"blue\"), no2.coords)"
   ]
  },
  {
   "cell_type": "code",
   "execution_count": null,
   "metadata": {
    "colab": {},
    "colab_type": "code",
    "id": "7blGwRjEg3nn"
   },
   "outputs": [],
   "source": [
    "plt.figure(figsize=(17,12))\n",
    "ax = plt.subplot(111, projection=ccrs.Orthographic(central_latitude=53.35, central_longitude=-6.27))\n",
    "no2[0].plot.pcolormesh(ax=ax, x ='longitude', y='latitude', add_colorbar=True, cmap='magma_r',transform=ccrs.PlateCarree(),vmin=0)\n",
    "ax.add_feature(cartopy.feature.RIVERS)\n",
    "ax.set_title('NO2(Dublin) 2019/03/09')\n",
    "ax.coastlines('10m')\n",
    "###ADDING STATES TO THE GRAPH\n",
    "states_provinces = cf.NaturalEarthFeature(category='cultural',\n",
    "                                                name='admin_1_states_provinces',\n",
    "                                                scale='10m',\n",
    "                                                facecolor='none')\n",
    "\n",
    "ax.add_feature(cf.LAND)\n",
    "ax.add_feature(cf.COASTLINE)\n",
    "ax.add_feature(states_provinces, edgecolor='gray')         \n",
    "ax.add_feature(cf.LAND)\n",
    "ax.add_feature(cf.OCEAN)\n",
    "ax.add_feature(cf.COASTLINE)\n",
    "ax.add_feature(cf.BORDERS,)\n",
    "ax.add_feature(cf.LAKES, alpha=0.5 )\n",
    "ax.add_feature(cf.RIVERS, alpha=1)\n",
    "ax.stock_img()\n",
    "ax.gridlines()\n",
    "\n",
    "#Adding Dublin to our plot\n",
    "\n",
    "ax.plot(28.5,77.5,'bo', markersize=7, transform=ccrs.PlateCarree())\n",
    "ax.text(29, 78, \"Dublin\")\n",
    "#Saving the plot\n",
    "#plt.savefig('C:/Users/resultmay/', bbox_inches='tight', dpi =300)\n",
    "\n"
   ]
  },
  {
   "cell_type": "markdown",
   "metadata": {
    "colab_type": "text",
    "id": "rNwTJ17Cg3nt"
   },
   "source": [
    "### Quality Filter"
   ]
  },
  {
   "cell_type": "code",
   "execution_count": null,
   "metadata": {
    "colab": {},
    "colab_type": "code",
    "id": "GzZRHB04g3nt"
   },
   "outputs": [],
   "source": [
    "no2_filter = no2.where(file1PRD['qa_value'] > 0.75, drop = True)\n",
    "\n",
    "#plot original data vs quality flag\n",
    "plt.figure(figsize=(30, 10))\n",
    "                \n",
    "#Plot masked NO2 data                \n",
    "ax2 = plt.subplot(122, projection=ccrs.Orthographic(11, 42))\n",
    "no2_filter[0].plot.pcolormesh(ax=ax2, x='longitude', y='latitude', add_colorbar =True,cmap='magma_r',transform=ccrs.PlateCarree(), vmin=0)\n",
    "ax2.set_tile('Filtered S_5p ,Quality Flag Layer> 0.75')\n",
    "ax2.add_feature(cartopy.feature.RIVERS)\n",
    "ax2.coastlines('10m')\n",
    "ax2.stock_img()\n",
    "ax2.gridlines()\n",
    "                \n",
    "### Save the file\n",
    "                \n",
    "plt.savefig(\"C:/Users/resultmay/\",bbox_inches='tight', dpi=300)\n",
    "                "
   ]
  },
  {
   "cell_type": "markdown",
   "metadata": {
    "colab_type": "text",
    "id": "d7nqixdsg3nw"
   },
   "source": [
    "### Dublin Subset"
   ]
  },
  {
   "cell_type": "code",
   "execution_count": null,
   "metadata": {
    "colab": {},
    "colab_type": "code",
    "id": "noC26Adng3nw"
   },
   "outputs": [],
   "source": [
    "ur = (-6.11,53.41 )\n",
    "ll = (-6.45,53.24 )\n",
    "no2_subset = no2_filter.where((no2_filter.longitude < ur[1]) & (no2_filter.longitude > ll[1]) & (no2_filter.latitude < ur[0]), drop = True)\n",
    "\n",
    "#plot subset\n",
    "plt.figure(figsize(12,12))\n",
    "ax = plt.axes(projection=ccrs.Orthographir(11, 42))\n",
    "\n",
    "stt_prv =cf.NaturalEarthFeature(category='cultural',name='admin_1_states_provinces_lines',scale='10m',facecolor='none')\n",
    "\n",
    "no2_subset[0].plot.pcolormesh(ax=ax, x='longitude', y='latitude', add_colorbar=True, cmaps='magma_r',transform=ccrs.PlateCarree(), vmin=0)\n",
    "ax.add_feature(cartopy.feature.LAND, edgecolors='black')\n",
    "ax.add_feature(stt_prc, linewidth=0.2, edgecolor='black')\n",
    "ax.set_title('NO2 concentration | qa_value >0.75')\n",
    "\n",
    "### Add POI to map\n",
    "ax.text(78, 29, 'Dublin', transform=ccrs.Geodetic());\n",
    "\n",
    "###save figure to file\n",
    "plt.savefig('/LOCATION')"
   ]
  },
  {
   "cell_type": "code",
   "execution_count": 11,
   "metadata": {
    "colab": {},
    "colab_type": "code",
    "id": "9rMEywzeg3nz"
   },
   "outputs": [
    {
     "data": {
      "application/vnd.jupyter.widget-view+json": {
       "model_id": "ce3578b94652414eb3f31aa680f257e0",
       "version_major": 2,
       "version_minor": 0
      },
      "text/plain": [
       "HBox(children=(Checkbox(value=False, description='land', style=DescriptionStyle(description_width='initial')),…"
      ]
     },
     "metadata": {},
     "output_type": "display_data"
    },
    {
     "data": {
      "application/vnd.jupyter.widget-view+json": {
       "model_id": "7b367b2778604abba63b1c91d444738e",
       "version_major": 2,
       "version_minor": 0
      },
      "text/plain": [
       "Output()"
      ]
     },
     "metadata": {},
     "output_type": "display_data"
    }
   ],
   "source": [
    "#WIDGETS LAYOUT\n",
    "\n",
    "land = ipywidgets.Checkbox(description='land', style={'description_width': 'initial'})\n",
    "ocean = ipywidgets.Checkbox(description='ocean', style={'description_width': 'initial'})\n",
    "coastline = ipywidgets.Checkbox(description='coastline', style={'description_width': 'initial'})\n",
    "borders = ipywidgets.Checkbox(description='borders', style={'description_width': 'initial'})\n",
    "lakes = ipywidgets.Checkbox(description='lakes', style={'description_width': 'initial'})\n",
    "rivers = ipywidgets.Checkbox(description='rivers', style={'description_width': 'initial'})\n",
    "states = ipywidgets.Checkbox(description='states', style={'description_width': 'initial'})\n",
    "plot_locations = ipywidgets.Checkbox(description='plot_locations', style={'description_width': 'initial'})\n",
    "\n",
    "box_layout = ipywidgets.Layout(display='inline-flex',                               \n",
    "                               flex_flow='row',\n",
    "                               align_items='stretch',\n",
    "                               border='solid',\n",
    "                               width='100%')\n",
    "\n",
    "ui = ipywidgets.HBox([land, ocean, coastline, borders, lakes, rivers,states, plot_locations], layout=box_layout)\n",
    "\n",
    "def create_map(land,ocean,coastline,borders,lakes,rivers,states,plot_locations):\n",
    "    data_crs = ccrs.PlateCarree()\n",
    "    ax = plt.figure(figsize=(12, 8))\n",
    "    ax = ax.add_subplot(1, 1, 1, projection=data_crs)\n",
    "    #ax.set_extent([68, 97, 7, 35], ccrs.PlateCarree())  \n",
    "    #STATESLAYOUTDEFINATION\n",
    "    states_provinces = cf.NaturalEarthFeature(category='cultural',\n",
    "                                                name='admin_1_states_provinces',\n",
    "                                                scale='10m',\n",
    "                                                facecolor='none')\n",
    "\n",
    "    # make the map global rather than have it zoom in to the extents of any plotted data\n",
    "    #ax.set_global()\n",
    "    if land == True: ax.add_feature(cfeature.LAND)\n",
    "    if ocean == True: ax.add_feature(cfeature.OCEAN)\n",
    "    if coastline == True: ax.add_feature(cfeature.COASTLINE)\n",
    "    if borders == True: ax.add_feature(cfeature.BORDERS)\n",
    "    if lakes == True: ax.add_feature(cfeature.LAKES, alpha=0.5)\n",
    "    if rivers == True: ax.add_feature(cfeature.RIVERS)\n",
    "    if states == True: ax.add_feature(cfeature.LAND),ax.add_feature(cfeature.COASTLINE),ax.add_feature(states_provinces, edgecolor='gray')    \n",
    "    if plot_locations == True:\n",
    "        dublin_lon, dublin_lat = -6.27, 53.35\n",
    "        ax.plot(dublin_lon, dublin_lat, 'o', transform=data_crs)\n",
    "        ax.text(dublin_lon + 1, dublin_lat - 6, 'Dublin', horizontalalignment='left', transform=data_crs)\n",
    "        \n",
    "out = ipywidgets.interactive_output(create_map, {'land': land,\n",
    "                                                 'ocean': ocean,\n",
    "                                                 'coastline': coastline,\n",
    "                                                 'borders': borders,\n",
    "                                                 'lakes': lakes,\n",
    "                                                 'rivers': rivers,\n",
    "                                                 'states': states,\n",
    "                                                 'plot_locations': plot_locations})\n",
    "\n",
    "display(ui, out)"
   ]
  },
  {
   "cell_type": "code",
   "execution_count": null,
   "metadata": {},
   "outputs": [],
   "source": []
  },
  {
   "cell_type": "code",
   "execution_count": null,
   "metadata": {},
   "outputs": [],
   "source": []
  }
 ],
 "metadata": {
  "colab": {
   "name": "finalplot.ipynb",
   "provenance": []
  },
  "kernelspec": {
   "display_name": "Python 3",
   "language": "python",
   "name": "python3"
  },
  "language_info": {
   "codemirror_mode": {
    "name": "ipython",
    "version": 3
   },
   "file_extension": ".py",
   "mimetype": "text/x-python",
   "name": "python",
   "nbconvert_exporter": "python",
   "pygments_lexer": "ipython3",
   "version": "3.8.3"
  }
 },
 "nbformat": 4,
 "nbformat_minor": 1
}
