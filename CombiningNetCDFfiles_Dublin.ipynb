{
 "cells": [
  {
   "cell_type": "code",
   "execution_count": null,
   "metadata": {},
   "outputs": [],
   "source": [
    "from gcpy import core\n",
    "import os\n",
    "import numpy as np\n",
    "import xarray as xr\n",
    "from xarray.coding.variables import SerializationWarning\n",
    "import warnings\n",
    "import pandas as pd"
   ]
  },
  {
   "cell_type": "markdown",
   "metadata": {},
   "source": [
    "### Nitrogen Dioxide\n"
   ]
  },
  {
   "cell_type": "code",
   "execution_count": null,
   "metadata": {},
   "outputs": [],
   "source": [
    "### Renaming 1 file\n",
    "!ncrename -h -v nitrogendioxide_tropospheric_column,no2tc S5P_OFFL_L2__NO2____20200415T063856_20200415T082027_12980_01_010302_20200416T231404.SUB.nc"
   ]
  },
  {
   "cell_type": "code",
   "execution_count": null,
   "metadata": {},
   "outputs": [],
   "source": [
    "!ncdump -h S5P_OFFL_L2__NO2____20200415T063856_20200415T082027_12980_01_010302_20200416T231404.SUB.nc\n"
   ]
  },
  {
   "cell_type": "code",
   "execution_count": null,
   "metadata": {},
   "outputs": [],
   "source": [
    "## rename nitrogendioxide_tropospheric_column to no2tc\n",
    "for f in *.nc; do ncrename -h -v nitrogendioxide_tropospheric_column,no2tc $f; done\n"
   ]
  },
  {
   "cell_type": "code",
   "execution_count": null,
   "metadata": {},
   "outputs": [],
   "source": [
    "# Step 4:  Merge netCDF files into one multidimensional file\n",
    "!ncecat -O -h -x -v no2tc -u time S5P_OFFL_L2_NO2*.nc nitrogendioxide.nc"
   ]
  },
  {
   "cell_type": "code",
   "execution_count": null,
   "metadata": {},
   "outputs": [],
   "source": [
    "\n",
    "#final combined file\n",
    "!ncdump -h nitrogendioxide.nc"
   ]
  },
  {
   "cell_type": "code",
   "execution_count": null,
   "metadata": {},
   "outputs": [],
   "source": []
  },
  {
   "cell_type": "code",
   "execution_count": null,
   "metadata": {},
   "outputs": [],
   "source": []
  }
 ],
 "metadata": {
  "kernelspec": {
   "display_name": "Python 3",
   "language": "python",
   "name": "python3"
  },
  "language_info": {
   "codemirror_mode": {
    "name": "ipython",
    "version": 3
   },
   "file_extension": ".py",
   "mimetype": "text/x-python",
   "name": "python",
   "nbconvert_exporter": "python",
   "pygments_lexer": "ipython3",
   "version": "3.8.3"
  }
 },
 "nbformat": 4,
 "nbformat_minor": 4
}
